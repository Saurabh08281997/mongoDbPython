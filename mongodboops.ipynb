{
 "cells": [
  {
   "cell_type": "code",
   "execution_count": 1,
   "id": "15908f69-cc87-403f-bf87-cf2e083d0412",
   "metadata": {},
   "outputs": [],
   "source": [
    "class ineuron :\n",
    "    pass"
   ]
  },
  {
   "cell_type": "code",
   "execution_count": 2,
   "id": "712efd5d-aea8-4008-b808-84213cad1b3c",
   "metadata": {},
   "outputs": [],
   "source": [
    "class ineuron : \n",
    "    \n",
    "    def ineuron1(self):\n",
    "        print(\"ineuron is a compnay in edtech\")\n",
    "        \n",
    "    def ineron_students(self):\n",
    "        print(\"students are amazing in ineuron\")\n",
    "        \n",
    "    def ineuron_support(self):\n",
    "        print(\"yes we do give support\")\n",
    "    \n",
    "    def ineuron_fee(self):\n",
    "        print(\"its very very affordable \") "
   ]
  },
  {
   "cell_type": "code",
   "execution_count": 3,
   "id": "3cfe7e19-a59e-405d-8095-69e36f6bef1d",
   "metadata": {},
   "outputs": [],
   "source": [
    "b = ineuron()"
   ]
  },
  {
   "cell_type": "code",
   "execution_count": 4,
   "id": "2d0e671f-7b22-4ff2-947e-079ffdc03afa",
   "metadata": {},
   "outputs": [
    {
     "name": "stdout",
     "output_type": "stream",
     "text": [
      "ineuron is a compnay in edtech\n"
     ]
    }
   ],
   "source": [
    "b.ineuron1()"
   ]
  },
  {
   "cell_type": "code",
   "execution_count": 5,
   "id": "7d1f9067-3300-4988-b172-f23be7edc841",
   "metadata": {},
   "outputs": [
    {
     "name": "stdout",
     "output_type": "stream",
     "text": [
      "its very very affordable \n"
     ]
    }
   ],
   "source": [
    "b.ineuron_fee()"
   ]
  },
  {
   "cell_type": "code",
   "execution_count": 6,
   "id": "82995453-68e7-47bf-ba7d-37969f6f8358",
   "metadata": {},
   "outputs": [],
   "source": [
    "a = 10 "
   ]
  },
  {
   "cell_type": "code",
   "execution_count": 7,
   "id": "0e25972a-79a3-425e-a8f6-a8f94dabb044",
   "metadata": {},
   "outputs": [
    {
     "data": {
      "text/plain": [
       "int"
      ]
     },
     "execution_count": 7,
     "metadata": {},
     "output_type": "execute_result"
    }
   ],
   "source": [
    "type(a)"
   ]
  },
  {
   "cell_type": "code",
   "execution_count": 8,
   "id": "09a7c69f-ad96-43e0-b0e1-75dbb9bfdf1d",
   "metadata": {},
   "outputs": [],
   "source": [
    "def ineuron_support():\n",
    "        print(\"yes we do give support\")"
   ]
  },
  {
   "cell_type": "code",
   "execution_count": 9,
   "id": "b1bd75d9-6616-4150-a25e-94514153b8a1",
   "metadata": {},
   "outputs": [
    {
     "name": "stdout",
     "output_type": "stream",
     "text": [
      "yes we do give support\n"
     ]
    }
   ],
   "source": [
    "ineuron_support()"
   ]
  },
  {
   "cell_type": "code",
   "execution_count": 19,
   "id": "86d110e7-c6d0-4c64-a0b2-282bf8937c33",
   "metadata": {},
   "outputs": [],
   "source": [
    "import pymongo\n",
    "class mongodb : \n",
    "    \n",
    "    def __init__(self , userid1 , password1, data ) :\n",
    "        \n",
    "        \"\"\"\n",
    "        this is a code for mongodb connectivity and its related application \n",
    "        \"\"\"\n",
    "        self.userid = userid1\n",
    "        self.password = password1 \n",
    "        self.data = data \n",
    "    \n",
    "    \n",
    "    def connect(self) :\n",
    "        print(\"this fun will help you to coonnect with your mongo db \")\n",
    "        url = \"mongodb+srv://\" + self.userid + \":\" + self.password+ \"@cluster0.t4vne.mongodb.net/?retryWrites=true&w=majority\"\n",
    "        client = pymongo.MongoClient(url)\n",
    "        return client\n",
    "        \n",
    "    def insert(self ):\n",
    "        conn = self.connect()\n",
    "        print(\"this fun will help you to insert into mondo db \")\n",
    "        db = conn['mongodb_test']\n",
    "        coll = db['mongo_record']\n",
    "        coll.insert_one(self.data)\n",
    "        \n",
    "    def update(self):\n",
    "        print(\"this fun will help you to update in mongodb\")"
   ]
  },
  {
   "cell_type": "code",
   "execution_count": 20,
   "id": "ff76285c-54b5-496c-a988-2c46c6de2fb6",
   "metadata": {},
   "outputs": [],
   "source": [
    "data = {\n",
    "    'course_name' : ['full stack data science ','full stack data analytics' , 'big data' , 'devops' , 'blockchain'],\n",
    "    'course_instructor' : ['sudhanshu' ,'anand' , 'shashank' , 'hitesh' , 'navin'],\n",
    "    'start_date' : '12-12-2023',\n",
    "    'duration' : 'six months',\n",
    "    'mode' : 'live online',\n",
    "    'certification' : 'yes',\n",
    "    'prequisite' : ' Dedication',\n",
    "    'resume' : 'yes',\n",
    "    'mockinterview' : 'yes'\n",
    "    \n",
    "}"
   ]
  },
  {
   "cell_type": "code",
   "execution_count": 21,
   "id": "ba8116c2-58c2-4a17-8f39-aa06dcd20d97",
   "metadata": {},
   "outputs": [],
   "source": [
    "mongo = mongodb(\"Saurabh\" , \"mongodb\", data)"
   ]
  },
  {
   "cell_type": "code",
   "execution_count": 22,
   "id": "4ed8ed42-8fb8-437c-9bb5-8d4bf5fa95ec",
   "metadata": {},
   "outputs": [
    {
     "data": {
      "text/plain": [
       "'mongodb'"
      ]
     },
     "execution_count": 22,
     "metadata": {},
     "output_type": "execute_result"
    }
   ],
   "source": [
    "mongo.password"
   ]
  },
  {
   "cell_type": "code",
   "execution_count": 23,
   "id": "809f5b11-1022-4c2f-a1fa-861e69496767",
   "metadata": {},
   "outputs": [
    {
     "data": {
      "text/plain": [
       "'Saurabh'"
      ]
     },
     "execution_count": 23,
     "metadata": {},
     "output_type": "execute_result"
    }
   ],
   "source": [
    "mongo.userid"
   ]
  },
  {
   "cell_type": "code",
   "execution_count": 24,
   "id": "8c08afcf-77cc-4cc7-a845-5fca563e847d",
   "metadata": {},
   "outputs": [
    {
     "name": "stdout",
     "output_type": "stream",
     "text": [
      "this fun will help you to coonnect with your mongo db \n"
     ]
    }
   ],
   "source": [
    "coon = mongo.connect()"
   ]
  },
  {
   "cell_type": "code",
   "execution_count": 25,
   "id": "a21fd136-66a8-4316-af88-00c56eeb0f8c",
   "metadata": {},
   "outputs": [
    {
     "data": {
      "text/plain": [
       "MongoClient(host=['cluster0-shard-00-02.t4vne.mongodb.net:27017', 'cluster0-shard-00-01.t4vne.mongodb.net:27017', 'cluster0-shard-00-00.t4vne.mongodb.net:27017'], document_class=dict, tz_aware=False, connect=True, retrywrites=True, w='majority', authsource='admin', replicaset='atlas-123qlu-shard-0', tls=True)"
      ]
     },
     "execution_count": 25,
     "metadata": {},
     "output_type": "execute_result"
    }
   ],
   "source": [
    "coon"
   ]
  },
  {
   "cell_type": "code",
   "execution_count": 26,
   "id": "30be8808-450d-4bb7-8b82-e01035453847",
   "metadata": {},
   "outputs": [
    {
     "name": "stdout",
     "output_type": "stream",
     "text": [
      "this fun will help you to coonnect with your mongo db \n",
      "this fun will help you to insert into mondo db \n"
     ]
    }
   ],
   "source": [
    "mongo.insert()"
   ]
  }
 ],
 "metadata": {
  "kernelspec": {
   "display_name": "Python 3 (ipykernel)",
   "language": "python",
   "name": "python3"
  },
  "language_info": {
   "codemirror_mode": {
    "name": "ipython",
    "version": 3
   },
   "file_extension": ".py",
   "mimetype": "text/x-python",
   "name": "python",
   "nbconvert_exporter": "python",
   "pygments_lexer": "ipython3",
   "version": "3.10.6"
  }
 },
 "nbformat": 4,
 "nbformat_minor": 5
}
